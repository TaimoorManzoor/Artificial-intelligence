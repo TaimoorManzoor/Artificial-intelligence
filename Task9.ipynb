{
  "nbformat": 4,
  "nbformat_minor": 0,
  "metadata": {
    "colab": {
      "provenance": []
    },
    "kernelspec": {
      "name": "python3",
      "display_name": "Python 3"
    },
    "language_info": {
      "name": "python"
    }
  },
  "cells": [
    {
      "cell_type": "code",
      "execution_count": 1,
      "metadata": {
        "id": "c07mziTIQSIP",
        "colab": {
          "base_uri": "https://localhost:8080/"
        },
        "outputId": "e2bf303d-f916-4a07-a341-d8997aa8a2be"
      },
      "outputs": [
        {
          "output_type": "stream",
          "name": "stdout",
          "text": [
            "The per KG. price of  Apple is Rs 47\n",
            "The per KG. price of  Banana is Rs 27\n",
            "The per KG. price of  Orange is Rs 35\n",
            "The per KG. price of  Watermelon is Rs 13\n",
            "The per KG. price of  Plum is Rs 28\n",
            "The per KG. price of  Grapes is Rs 10\n",
            "The per KG. price of  Kiwi is Rs 30\n",
            "The per KG. price of  Strawberry is Rs 56\n",
            "The per KG. price of  Pear is Rs 15\n",
            "The per KG. price of  Mango is Rs 25\n",
            "{47: 'Apple', 27: 'Banana', 35: 'Orange', 13: 'Watermelon', 28: 'Plum', 10: 'Grapes', 30: 'Kiwi', 56: 'Strawberry', 15: 'Pear', 25: 'Mango'}\n",
            "Pick a Number : 35\n",
            "The  price of :  Orange is : 35\n"
          ]
        }
      ],
      "source": [
        "fruit=['Apple', 'Banana', 'Orange', 'Watermelon', 'Plum', 'Grapes', 'Kiwi', 'Strawberry', 'Pear', 'Mango']\n",
        "price=[47, 27, 35, 13, 28, 10, 30, 56, 15, 25]\n",
        "fruit_Prices={\n",
        "    'Apple':47, 'Banana':27, 'Orange':35, 'Watermelon':13, 'Plum':28, 'Grapes':10, 'Kiwi':30, 'Strawberry':56, 'Pear':15, 'Mango':25\n",
        "}\n",
        "for key,value in fruit_Prices.items():\n",
        "  print(\"The per KG. price of \",key,\"is Rs\",value) \n",
        "\n",
        "fruit_dic={}\n",
        "\n",
        "for i in range(0,len(fruit),1):\n",
        "  fruit_dic.update({price[i]:fruit[i]})\n",
        "print(fruit_dic)\n",
        "\n",
        "pick=int(input(\"Pick a Number : \"))\n",
        "temp=fruit_dic[pick]\n",
        "print(\"The  price of : \",temp,\"is :\",fruit_Prices[temp])"
      ]
    },
    {
      "cell_type": "markdown",
      "source": [
        "Tuples\n",
        "Create a tuple from 1 to 100.\n",
        "Using the loop and tuple created above, create a list of the numbers (from the the tuple) that\n",
        "are squares of some number. For e.g. if the tuple contains 4, than thats the square of 2, so we\n",
        "will put it in the list."
      ],
      "metadata": {
        "id": "H5BPaZ2GWtU2"
      }
    },
    {
      "cell_type": "code",
      "source": [
        "numtuple=(1,2,3,4,5,6,7)\n",
        "numList=[]\n",
        "for i in numtuple:\n",
        "  numList.append(i**2)\n",
        " \n",
        "print(tuple(numList))\n",
        "\n"
      ],
      "metadata": {
        "id": "lKebaCcZWsJs",
        "colab": {
          "base_uri": "https://localhost:8080/"
        },
        "outputId": "7e107748-726f-4eab-cd62-195a25629c19"
      },
      "execution_count": null,
      "outputs": [
        {
          "output_type": "stream",
          "name": "stdout",
          "text": [
            "(1, 4, 9, 16, 25, 36, 49)\n"
          ]
        }
      ]
    },
    {
      "cell_type": "markdown",
      "source": [
        "Write a func\n",
        "\n",
        "on that accepts a string and calculates the number of upper case letters and lower\n",
        "\n",
        "case le\n",
        "ers.\n",
        "Sample String : 'Hello Mr. Rogers, how are you this fine Tuesday?' Expected Output : No. of\n",
        "Upper case characters : 4 No. of Lower case Characters : 33"
      ],
      "metadata": {
        "id": "b3mzmEPxYU1R"
      }
    },
    {
      "cell_type": "code",
      "source": [
        "def func(text):\n",
        "  countupper=0\n",
        "  countlower=0\n",
        "  for i in text:\n",
        "    if i.isupper():\n",
        "      countupper=countupper+1\n",
        "    elif i.islower():\n",
        "      countlower=countlower+1\n",
        "\n",
        "  print(\"No. of Upper case characters :\",countupper,\"No. of Lower case Characters : \",countlower)\n",
        "func(\"Hello Mr. Rogers, how are you this fine Tuesday?\")    "
      ],
      "metadata": {
        "colab": {
          "base_uri": "https://localhost:8080/"
        },
        "id": "Wx6I454zYTf7",
        "outputId": "0d064366-63da-4a8d-a3df-24c439b06986"
      },
      "execution_count": null,
      "outputs": [
        {
          "output_type": "stream",
          "name": "stdout",
          "text": [
            "No. of Upper case characters : 4 No. of Lower case Characters :  33\n"
          ]
        }
      ]
    },
    {
      "cell_type": "markdown",
      "source": [],
      "metadata": {
        "id": "gEZGnaekYUFi"
      }
    }
  ]
}