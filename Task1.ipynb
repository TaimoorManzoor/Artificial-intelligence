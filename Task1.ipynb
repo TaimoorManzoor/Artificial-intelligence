{
  "nbformat": 4,
  "nbformat_minor": 0,
  "metadata": {
    "colab": {
      "provenance": [],
      "collapsed_sections": []
    },
    "kernelspec": {
      "name": "python3",
      "display_name": "Python 3"
    },
    "language_info": {
      "name": "python"
    }
  },
  "cells": [
    {
      "cell_type": "code",
      "execution_count": 3,
      "metadata": {
        "colab": {
          "base_uri": "https://localhost:8080/"
        },
        "id": "0HluvJ1XSWOu",
        "outputId": "f1e54016-ed47-4bbd-c0d8-49a58caefe28"
      },
      "outputs": [
        {
          "output_type": "stream",
          "name": "stdout",
          "text": [
            "Name : Ali\n",
            "UserName : Ali Noor\n",
            "Degree Program : bscs\n",
            "Age : 22\n",
            "Contact : 92314555421\n",
            "Gender : Male\n",
            "Percentage : 77\n",
            "IsPassed : True\n",
            "Name : Janzaib\n",
            "UserName : Ali Janzaib \n",
            "Degree Program : bscs\n",
            "Age : 22\n",
            "Contact : 92314515421\n",
            "Gender : Male\n",
            "Percentage : 77\n",
            "IsPassed : True\n",
            "Name : Fouzia Naz\n",
            "UserName : Fouzia\n",
            "Degree Program : BSCS\n",
            "Age : 22\n",
            "Contact : 92314555451\n",
            "Gender : Male\n",
            "Percentage : 77\n",
            "IsPassed : True\n",
            "Name : Noor Ali\n",
            "UserName : Noor\n",
            "Degree Program : BSCS\n",
            "Age : 22\n",
            "Contact : 92314555421\n",
            "Gender : Male\n",
            "Percentage : 88\n",
            "IsPassed : True\n",
            "Name : Manzoor\n",
            "UserName : Noor Manzoor\n",
            "Degree Program : BSCS\n",
            "Age : 22\n",
            "Contact : 92314255421\n",
            "Gender : Male\n",
            "Percentage : 88\n",
            "IsPassed : True\n",
            "Name : Haq\n",
            "UserName : Manz\n",
            "Degree Program : BSCS\n",
            "Age : 22\n",
            "Contact : 92414555421\n",
            "Gender : Malw\n",
            "Percentage : 55\n",
            "IsPassed : True\n",
            "{0: {'name': 'Ali', 'username': 'Ali Noor', 'degreeName': 'bscs', 'age': 22, 'contact': '92314555421', 'gender': 'Male', 'percentage': 77.0, 'isPassed': True}, 1: {'name': 'Janzaib', 'username': 'Ali Janzaib ', 'degreeName': 'bscs', 'age': 22, 'contact': '92314515421', 'gender': 'Male', 'percentage': 77.0, 'isPassed': True}, 2: {'name': 'Fouzia Naz', 'username': 'Fouzia', 'degreeName': 'BSCS', 'age': 22, 'contact': '92314555451', 'gender': 'Male', 'percentage': 77.0, 'isPassed': True}, 3: {'name': 'Noor Ali', 'username': 'Noor', 'degreeName': 'BSCS', 'age': 22, 'contact': '92314555421', 'gender': 'Male', 'percentage': 88.0, 'isPassed': True}, 4: {'name': 'Manzoor', 'username': 'Noor Manzoor', 'degreeName': 'BSCS', 'age': 22, 'contact': '92314255421', 'gender': 'Male', 'percentage': 88.0, 'isPassed': True}, 5: {'name': 'Haq', 'username': 'Manz', 'degreeName': 'BSCS', 'age': 22, 'contact': '92414555421', 'gender': 'Malw', 'percentage': 55.0, 'isPassed': True}}\n"
          ]
        }
      ],
      "source": [
        "import json\n",
        "# Permanent Dictionary for storing the user data\n",
        "UserData={}\n",
        "# Create the Functon with name \n",
        "def Data():\n",
        "#create variable for loop\n",
        "  i=0\n",
        "# create loop  \n",
        "  while i <6 :\n",
        "#Take the input from user\n",
        "    name=input(\"Name : \")\n",
        "    username=input(\"UserName : \")\n",
        "    degreeName=input(\"Degree Program : \")\n",
        "    age=int(input(\"Age : \"))\n",
        "    contact=input(\"Contact : \")\n",
        "    gender=input(\"Gender : \")\n",
        "    percentage=float(input(\"Percentage : \"))\n",
        "    isPassed=bool(input(\"IsPassed : \"))\n",
        "\n",
        "#store all input in temp Dictionary  \n",
        "    temp={\n",
        "          \"name\":name,\n",
        "          \"username\":username,\n",
        "          \"degreeName\":degreeName,\n",
        "          \"age\":age,\n",
        "          \"contact\":contact,\n",
        "          \"gender\":gender,\n",
        "          \"percentage\":percentage,\n",
        "          \"isPassed\":isPassed\n",
        "         }\n",
        "#Store all data in Permanent Dictionary         \n",
        "    UserData.update({i:temp})\n",
        "    i=i+1\\\n",
        "# Print the Permanent Dictionary\n",
        "  print(UserData)\n",
        "# CREATE THE FILE with writing mode  \n",
        "  f = open(\"SP20-BSCS-0021.txt\", \"w\")\n",
        "# insert the Data into the file  \n",
        "  f.write(json.dumps(UserData)) \n",
        "# Close the fILE  \n",
        "  f.close()      \n",
        "# CALL THE FUNCTION          \n",
        "Data()\n"
      ]
    }
  ]
}