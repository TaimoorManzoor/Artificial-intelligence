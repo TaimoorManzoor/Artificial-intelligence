{
 "cells": [
  {
   "cell_type": "code",
   "execution_count": 1,
   "metadata": {},
   "outputs": [],
   "source": [
    "import pandas as pd\n",
    "import numpy as np\n"
   ]
  },
  {
   "cell_type": "code",
   "execution_count": 2,
   "metadata": {},
   "outputs": [
    {
     "name": "stdout",
     "output_type": "stream",
     "text": [
      "{'X1': [40, 45, 38, 50, 48, 55, 53, 55, 58, 40], 'X2': [25, 20, 30, 30, 28, 30, 34, 36, 32, 34], 'Y': [1, 2, 1, 3, 2, 3, 3, 4, 4, 3]}\n"
     ]
    }
   ],
   "source": [
    "dic={\n",
    "    'X1':[40,45,38,50,48,55,53,55,58,40],\n",
    "    'X2':[25,20,30,30,28,30,34,36,32,34],\n",
    "    'Y':[1,2,1,3,2,3,3,4,4,3],\n",
    "}\n",
    "print(dic)"
   ]
  },
  {
   "cell_type": "code",
   "execution_count": 16,
   "metadata": {},
   "outputs": [
    {
     "name": "stdout",
     "output_type": "stream",
     "text": [
      "482 299 26\n"
     ]
    },
    {
     "data": {
      "text/html": [
       "<div>\n",
       "<style scoped>\n",
       "    .dataframe tbody tr th:only-of-type {\n",
       "        vertical-align: middle;\n",
       "    }\n",
       "\n",
       "    .dataframe tbody tr th {\n",
       "        vertical-align: top;\n",
       "    }\n",
       "\n",
       "    .dataframe thead th {\n",
       "        text-align: right;\n",
       "    }\n",
       "</style>\n",
       "<table border=\"1\" class=\"dataframe\">\n",
       "  <thead>\n",
       "    <tr style=\"text-align: right;\">\n",
       "      <th></th>\n",
       "      <th>X1</th>\n",
       "      <th>X2</th>\n",
       "      <th>Y</th>\n",
       "      <th>X1X2</th>\n",
       "      <th>YX1</th>\n",
       "      <th>YX2</th>\n",
       "      <th>X1_square</th>\n",
       "      <th>X2_square</th>\n",
       "      <th>Y_square</th>\n",
       "    </tr>\n",
       "  </thead>\n",
       "  <tbody>\n",
       "    <tr>\n",
       "      <th>0</th>\n",
       "      <td>40</td>\n",
       "      <td>25</td>\n",
       "      <td>1</td>\n",
       "      <td>1000</td>\n",
       "      <td>40</td>\n",
       "      <td>25</td>\n",
       "      <td>1600</td>\n",
       "      <td>625</td>\n",
       "      <td>1</td>\n",
       "    </tr>\n",
       "    <tr>\n",
       "      <th>1</th>\n",
       "      <td>45</td>\n",
       "      <td>20</td>\n",
       "      <td>2</td>\n",
       "      <td>900</td>\n",
       "      <td>90</td>\n",
       "      <td>40</td>\n",
       "      <td>2025</td>\n",
       "      <td>400</td>\n",
       "      <td>4</td>\n",
       "    </tr>\n",
       "    <tr>\n",
       "      <th>2</th>\n",
       "      <td>38</td>\n",
       "      <td>30</td>\n",
       "      <td>1</td>\n",
       "      <td>1140</td>\n",
       "      <td>38</td>\n",
       "      <td>30</td>\n",
       "      <td>1444</td>\n",
       "      <td>900</td>\n",
       "      <td>1</td>\n",
       "    </tr>\n",
       "    <tr>\n",
       "      <th>3</th>\n",
       "      <td>50</td>\n",
       "      <td>30</td>\n",
       "      <td>3</td>\n",
       "      <td>1500</td>\n",
       "      <td>150</td>\n",
       "      <td>90</td>\n",
       "      <td>2500</td>\n",
       "      <td>900</td>\n",
       "      <td>9</td>\n",
       "    </tr>\n",
       "    <tr>\n",
       "      <th>4</th>\n",
       "      <td>48</td>\n",
       "      <td>28</td>\n",
       "      <td>2</td>\n",
       "      <td>1344</td>\n",
       "      <td>96</td>\n",
       "      <td>56</td>\n",
       "      <td>2304</td>\n",
       "      <td>784</td>\n",
       "      <td>4</td>\n",
       "    </tr>\n",
       "    <tr>\n",
       "      <th>5</th>\n",
       "      <td>55</td>\n",
       "      <td>30</td>\n",
       "      <td>3</td>\n",
       "      <td>1650</td>\n",
       "      <td>165</td>\n",
       "      <td>90</td>\n",
       "      <td>3025</td>\n",
       "      <td>900</td>\n",
       "      <td>9</td>\n",
       "    </tr>\n",
       "    <tr>\n",
       "      <th>6</th>\n",
       "      <td>53</td>\n",
       "      <td>34</td>\n",
       "      <td>3</td>\n",
       "      <td>1802</td>\n",
       "      <td>159</td>\n",
       "      <td>102</td>\n",
       "      <td>2809</td>\n",
       "      <td>1156</td>\n",
       "      <td>9</td>\n",
       "    </tr>\n",
       "    <tr>\n",
       "      <th>7</th>\n",
       "      <td>55</td>\n",
       "      <td>36</td>\n",
       "      <td>4</td>\n",
       "      <td>1980</td>\n",
       "      <td>220</td>\n",
       "      <td>144</td>\n",
       "      <td>3025</td>\n",
       "      <td>1296</td>\n",
       "      <td>16</td>\n",
       "    </tr>\n",
       "    <tr>\n",
       "      <th>8</th>\n",
       "      <td>58</td>\n",
       "      <td>32</td>\n",
       "      <td>4</td>\n",
       "      <td>1856</td>\n",
       "      <td>232</td>\n",
       "      <td>128</td>\n",
       "      <td>3364</td>\n",
       "      <td>1024</td>\n",
       "      <td>16</td>\n",
       "    </tr>\n",
       "    <tr>\n",
       "      <th>9</th>\n",
       "      <td>40</td>\n",
       "      <td>34</td>\n",
       "      <td>3</td>\n",
       "      <td>1360</td>\n",
       "      <td>120</td>\n",
       "      <td>102</td>\n",
       "      <td>1600</td>\n",
       "      <td>1156</td>\n",
       "      <td>9</td>\n",
       "    </tr>\n",
       "  </tbody>\n",
       "</table>\n",
       "</div>"
      ],
      "text/plain": [
       "   X1  X2  Y  X1X2  YX1  YX2  X1_square  X2_square  Y_square\n",
       "0  40  25  1  1000   40   25       1600        625         1\n",
       "1  45  20  2   900   90   40       2025        400         4\n",
       "2  38  30  1  1140   38   30       1444        900         1\n",
       "3  50  30  3  1500  150   90       2500        900         9\n",
       "4  48  28  2  1344   96   56       2304        784         4\n",
       "5  55  30  3  1650  165   90       3025        900         9\n",
       "6  53  34  3  1802  159  102       2809       1156         9\n",
       "7  55  36  4  1980  220  144       3025       1296        16\n",
       "8  58  32  4  1856  232  128       3364       1024        16\n",
       "9  40  34  3  1360  120  102       1600       1156         9"
      ]
     },
     "metadata": {},
     "output_type": "display_data"
    }
   ],
   "source": [
    "df=pd.DataFrame(dic)\n",
    "\n",
    "print(sum_of_X1,sum_of_X2,sum_of_Y)\n",
    "df['X1X2']=df['X1']*df['X2']\n",
    "df['YX1']=df['Y']*df['X1']\n",
    "df['YX2']=df['Y']*df['X2']\n",
    "df['X1_square']=df['X1']*df['X1']\n",
    "df['X2_square']=df['X2']*df['X2']\n",
    "df['Y_square']=df['Y']*df['Y']\n",
    "display(df)"
   ]
  },
  {
   "cell_type": "code",
   "execution_count": 20,
   "metadata": {},
   "outputs": [
    {
     "name": "stdout",
     "output_type": "stream",
     "text": [
      "sum_of_X1: 482 sum_of_X2: 299 sum_of_Y: 26 mean_of_X1: 48.2 mean_of_X2: 29.9 mean_of_Y: 2.6\n"
     ]
    }
   ],
   "source": [
    "sum_of_X1=sum(df['X1'])\n",
    "sum_of_X1_square=sum(df['X1_square'])\n",
    "sum_of_X2_square=sum(df['X2_square'])\n",
    "sum_of_Y_square=sum(df['Y_square'])\n",
    "sum_of_X2=sum(df['X2'])\n",
    "sum_of_Y=sum(df['Y'])\n",
    "sum_of_X1X2=sum(df['X1X2'])\n",
    "sum_of_YX1=sum(df['YX1'])\n",
    "sum_of_YX2=sum(df['YX2'])\n",
    "mean_of_X1X2=df['X1X2'].mean()\n",
    "mean_of_YX1=df['YX1'].mean()\n",
    "mean_of_YX2=df['YX2'].mean()\n",
    "mean_of_X1=df['X1'].mean()\n",
    "mean_of_X2=df['X2'].mean()\n",
    "mean_of_Y=df['Y'].mean()\n",
    "sum_of_X1X2=sum(df['X1X2'])\n",
    "print(\"sum_of_X1:\",sum_of_X1,\"sum_of_X2:\",sum_of_X2,\"sum_of_Y:\",sum_of_Y,\"mean_of_X1:\",mean_of_X1,\"mean_of_X2:\",mean_of_X2,\"mean_of_Y:\",mean_of_Y)"
   ]
  },
  {
   "cell_type": "code",
   "execution_count": 29,
   "metadata": {},
   "outputs": [],
   "source": [
    "sum_of_x1y=sum_of_YX1-(sum_of_X1*sum_of_Y)/10\n",
    "sum_of_x2y=sum_of_YX2-(sum_of_X2*sum_of_Y)/10\n",
    "sum_of_x1x2=sum_of_X1X2-(sum_of_X1*sum_of_X2)/10"
   ]
  },
  {
   "cell_type": "code",
   "execution_count": 25,
   "metadata": {},
   "outputs": [
    {
     "name": "stdout",
     "output_type": "stream",
     "text": [
      "b1: -210659815.20507258 b2: -210477622.41314954\n"
     ]
    }
   ],
   "source": [
    "#FOR B1\n",
    "b1=(sum_of_X2_square*sum_of_x1y)-(sum_of_x1x2*sum_of_X2_square)/(sum_of_X1_square*sum_of_X2_square)-(sum_of_X1X2**2)\n",
    "b2=(sum_of_X1_square*sum_of_x2y)-(sum_of_x1x2*sum_of_X1_square)/(sum_of_X1_square*sum_of_X2_square)-(sum_of_X1X2**2)\n",
    "print(\"b1:\",b1,\"b2:\",b2)"
   ]
  },
  {
   "cell_type": "code",
   "execution_count": 28,
   "metadata": {},
   "outputs": [
    {
     "name": "stdout",
     "output_type": "stream",
     "text": [
      "a: 16447084005.637669\n"
     ]
    }
   ],
   "source": [
    "# FOR A\n",
    "a=mean_of_Y-(mean_of_X1*b1)-(mean_of_X2*b2)\n",
    "print(\"a:\",a)"
   ]
  },
  {
   "cell_type": "code",
   "execution_count": 38,
   "metadata": {},
   "outputs": [],
   "source": [
    "predicate_of_y=[]\n",
    "for x1,x2 in zip(df['X1'],df['X2']):\n",
    "    predicate_of_y.append(a+(x1*b1)+(x2*b2))"
   ]
  },
  {
   "cell_type": "code",
   "execution_count": 46,
   "metadata": {},
   "outputs": [],
   "source": [
    "error=[]\n",
    "for i in range(0,10,1):\n",
    "    error.append(df.loc[i, \"Y\"]-predicate_of_y[i])"
   ]
  },
  {
   "cell_type": "code",
   "execution_count": 47,
   "metadata": {},
   "outputs": [
    {
     "name": "stdout",
     "output_type": "stream",
     "text": [
      "[-2758750836.1060266, -2757839871.146412, -2127682354.4504242, 400235430.0104475, -442039446.2259989, 1453534506.0358095, 1874125365.2782621, 2716400241.5147066, 2506469197.4773254, -864452232.387681]\n"
     ]
    }
   ],
   "source": [
    "print(error)"
   ]
  },
  {
   "cell_type": "code",
   "execution_count": 64,
   "metadata": {},
   "outputs": [
    {
     "name": "stdout",
     "output_type": "stream",
     "text": [
      "[2758750837.1060266, 2757839873.146412, 2127682355.4504242, -400235427.0104475, 442039448.2259989, -1453534503.0358095, -1874125362.2782621, -2716400237.5147066, -2506469193.4773254, 864452235.387681]\n"
     ]
    },
    {
     "data": {
      "image/png": "[encoded data removed]",
      "text/plain": [
       "<Figure size 432x288 with 1 Axes>"
      ]
     },
     "metadata": {
      "needs_background": "light"
     },
     "output_type": "display_data"
    },
    {
     "data": {
      "text/plain": [
       "<Figure size 432x288 with 0 Axes>"
      ]
     },
     "metadata": {},
     "output_type": "display_data"
    }
   ],
   "source": [
    "import matplotlib.pyplot as plt\n",
    "import seaborn as sns\n",
    "plt.scatter(df['X1'],df['Y'])\n",
    "plt.xlabel(\"mechanical apptitude\")\n",
    "plt.ylabel(\"Job performance\")\n",
    "plt.figure()\n",
    "print(predicate_of_y)"
   ]
  },
  {
   "cell_type": "code",
   "execution_count": 61,
   "metadata": {},
   "outputs": [
    {
     "data": {
      "text/plain": [
       "Text(0, 0.5, 'Job performance')"
      ]
     },
     "execution_count": 61,
     "metadata": {},
     "output_type": "execute_result"
    },
    {
     "data": {
      "image/png": "[encoded data removed]",
      "text/plain": [
       "<Figure size 432x288 with 1 Axes>"
      ]
     },
     "metadata": {
      "needs_background": "light"
     },
     "output_type": "display_data"
    }
   ],
   "source": [
    "plt.scatter(df['X2'],df['Y'])\n",
    "plt.xlabel(\"conscientaous\")\n",
    "plt.ylabel(\"Job performance\")"
   ]
  },
  {
   "cell_type": "code",
   "execution_count": 62,
   "metadata": {
    "scrolled": true
   },
   "outputs": [
    {
     "data": {
      "text/plain": [
       "Text(0, 0.5, 'mechanical apptitude')"
      ]
     },
     "execution_count": 62,
     "metadata": {},
     "output_type": "execute_result"
    },
    {
     "data": {
      "image/png": "[encoded data removed]",
      "text/plain": [
       "<Figure size 432x288 with 1 Axes>"
      ]
     },
     "metadata": {
      "needs_background": "light"
     },
     "output_type": "display_data"
    }
   ],
   "source": [
    "plt.scatter(df['X1'],df['X2'])\n",
    "plt.xlabel(\"conscientaous\")\n",
    "plt.ylabel(\"mechanical apptitude\")"
   ]
  },
  {
   "cell_type": "code",
   "execution_count": 65,
   "metadata": {},
   "outputs": [
    {
     "data": {
      "text/plain": [
       "[<matplotlib.lines.Line2D at 0x1d78fee84e0>]"
      ]
     },
     "execution_count": 65,
     "metadata": {},
     "output_type": "execute_result"
    },
    {
     "data": {
      "image/png": "[encoded data removed]",
      "text/plain": [
       "<Figure size 432x288 with 1 Axes>"
      ]
     },
     "metadata": {
      "needs_background": "light"
     },
     "output_type": "display_data"
    }
   ],
   "source": [
    "plt.scatter(predicate_of_y,df['X1'])\n",
    "plt.plot(predicate_of_y,df['X1'])"
   ]
  },
  {
   "cell_type": "code",
   "execution_count": null,
   "metadata": {},
   "outputs": [],
   "source": [
    "predicate_of_y\n",
    "sum_of_X1=sum(df['X1'])\n",
    "sum_of_X1_square=sum(df['X1_square'])\n",
    "sum_of_X2_square=sum(df['X2_square'])\n",
    "sum_of_Y_square=sum(df['Y_square'])\n",
    "sum_of_X2=sum(df['X2'])\n",
    "sum_of_Y=sum(df['Y'])\n",
    "sum_of_X1X2=sum(df['X1X2'])\n",
    "sum_of_YX1=sum(df['YX1'])\n",
    "sum_of_YX2=sum(df['YX2'])\n",
    "mean_of_X1X2=df['X1X2'].mean()\n",
    "mean_of_YX1=df['YX1'].mean()\n",
    "mean_of_YX2=df['YX2'].mean()\n",
    "mean_of_X1=df['X1'].mean()\n",
    "mean_of_X2=df['X2'].mean()\n",
    "mean_of_Y=df['Y'].mean()\n",
    "sum_of_X1X2=sum(df['X1X2'])"
   ]
  },
  {
   "cell_type": "code",
   "execution_count": 79,
   "metadata": {},
   "outputs": [
    {
     "name": "stdout",
     "output_type": "stream",
     "text": [
      "0.002356142563217628\n",
      "Strong Positive\n"
     ]
    }
   ],
   "source": [
    "#let's find corelation X1Y\n",
    "r1=(10*sum_of_YX1-sum_of_X1*sum_of_Y)/((10*sum_of_X1_square-sum_of_X1**2)*(10*sum_of_Y_square-sum_of_Y**2)**1/2)\n",
    "print(r1)\n",
    "if(r1<0 and r1>-1):\n",
    "  print(\"Strong Negative\")\n",
    "elif(r1>0 and r1<1):\n",
    "  print(\"Strong Positive\")\n",
    "  "
   ]
  },
  {
   "cell_type": "code",
   "execution_count": 80,
   "metadata": {},
   "outputs": [
    {
     "name": "stdout",
     "output_type": "stream",
     "text": [
      "0.002833403530267642\n",
      "Strong Positive\n"
     ]
    }
   ],
   "source": [
    "#let's find corelation X2Y\n",
    "r2=(10*sum_of_YX2-sum_of_X2*sum_of_Y)/((10*sum_of_X2_square-sum_of_X2**2)*(10*sum_of_Y_square-sum_of_Y**2)**1/2)\n",
    "print(r2)\n",
    "if(r2<0 and r2>-1):\n",
    "  print(\"Strong Negative\")\n",
    "elif(r2>0 and r2<1):\n",
    "  print(\"Strong Positive\")\n",
    "  "
   ]
  },
  {
   "cell_type": "code",
   "execution_count": 81,
   "metadata": {},
   "outputs": [
    {
     "name": "stdout",
     "output_type": "stream",
     "text": [
      "0.0002581137255087224\n",
      "Strong Positive\n"
     ]
    }
   ],
   "source": [
    "#let's find corelation X2Y\n",
    "r3=(10*sum_of_X1X2-sum_of_X1*sum_of_X2)/((10*sum_of_X1_square-sum_of_X1**2)*(10*sum_of_X2_square-sum_of_X2**2)**1/2)\n",
    "print(r3)\n",
    "if(r3<0 and r3>-1):\n",
    "  print(\"Strong Negative\")\n",
    "elif(r3>0 and r3<1):\n",
    "  print(\"Strong Positive\")\n",
    "  "
   ]
  },
  {
   "cell_type": "code",
   "execution_count": 84,
   "metadata": {
    "collapsed": true
   },
   "outputs": [
    {
     "name": "stdout",
     "output_type": "stream",
     "text": [
      "1.35761379638062e-05\n"
     ]
    }
   ],
   "source": [
    "# For R_Square\n",
    "\n",
    "R_Square=((r1**2+r2**2-2*(r1*r2*r3))/(1-r3**2))\n",
    "print(R_Square)"
   ]
  },
  {
   "cell_type": "code",
   "execution_count": 87,
   "metadata": {},
   "outputs": [
    {
     "name": "stdout",
     "output_type": "stream",
     "text": [
      "4.0088271426956214e+19\n"
     ]
    }
   ],
   "source": [
    "#FOR RIDGE\n",
    "s=[]\n",
    "for i in range(0,10,1):\n",
    "    s.append((df.loc[i, \"Y\"]-predicate_of_y[i])**2)\n",
    "ridge=sum(s)-0.5*(b1**2+b2**2)    \n",
    "print(ridge)\n",
    "#FOR lasso\n",
    "lasso=sum(s)-0.5*(b1+b2)    "
   ]
  },
  {
   "cell_type": "code",
   "execution_count": null,
   "metadata": {},
   "outputs": [],
   "source": []
  }
 ],
 "metadata": {
  "kernelspec": {
   "display_name": "Python 3",
   "language": "python",
   "name": "python3"
  },
  "language_info": {
   "codemirror_mode": {
    "name": "ipython",
    "version": 3
   },
   "file_extension": ".py",
   "mimetype": "text/x-python",
   "name": "python",
   "nbconvert_exporter": "python",
   "pygments_lexer": "ipython3",
   "version": "3.7.3"
  }
 },
 "nbformat": 4,
 "nbformat_minor": 2
}
