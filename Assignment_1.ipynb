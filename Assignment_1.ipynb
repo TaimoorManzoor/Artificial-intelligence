{
  "nbformat": 4,
  "nbformat_minor": 0,
  "metadata": {
    "colab": {
      "provenance": []
    },
    "kernelspec": {
      "name": "python3",
      "display_name": "Python 3"
    },
    "language_info": {
      "name": "python"
    }
  },
  "cells": [
    {
      "cell_type": "code",
      "source": [
        "# N to denoted the N of Queen problem AND I am using 1 instead of 'Q' for show the matrix better .\n",
        "from turtle import position\n",
        "\n",
        "\n",
        "N= int(input(\"Enter the size of Chess_Board: \"))\n",
        "#Create a Chess_Board of NxN size and Intialize by 0.\n",
        "Chess_Board=[[0 for i in range(N)] for i in range(N)]\n",
        "\n",
        "\n",
        "#Check the Column\n",
        "def Check_Column(Chess_Board,Row,Column):\n",
        "    for i in range(Row,-1,-1):\n",
        "        if Chess_Board[i][Column]==1:\n",
        "            return False\n",
        "    return True\n",
        "#Check the diagonal    \n",
        "def Check_Diagonal(Chess_Board,Row,Column):\n",
        "    #zip is builten funcition which is used combine two list.\n",
        "    # e.g list1 [1,2,3], list2 [4,5,6]--> resulth [(1,4),(2,5),(3,6)]\n",
        "\n",
        "    #it is check diagonal right to left so it mean that both row and column are decrease.\n",
        "    for i,j in zip(range(Row,-1,-1),range(Column,-1,-1)):\n",
        "        if Chess_Board[i][j]==1:\n",
        "            return False\n",
        "    #it is check diagonal  left to right  so it mean that row is decrease and column are increase.        \n",
        "    for i,j in zip(range(Row,-1,-1),range(Column,N)):\n",
        "        if Chess_Board[i][j]==1:\n",
        "            return False\n",
        "    return True\n",
        "#Backtracking Logic\n",
        "def N_Queen(Chess_Board,Row):\n",
        "    if Row==N:\n",
        "        return True\n",
        "    for i in range(N):\n",
        "        if Check_Column(Chess_Board,Row,i)==True and Check_Diagonal(Chess_Board,Row,i)==True:\n",
        "            Chess_Board[Row][i]=1\n",
        "            if N_Queen(Chess_Board,Row+1):\n",
        "                return True \n",
        "            Chess_Board[Row][i]=0\n",
        "    return False    \n",
        "\n",
        "\n",
        "#Call the N_Queen FUNCTION\n",
        "N_Queen(Chess_Board,0)\n",
        "#Print the function\n",
        "position=[]\n",
        "for Row in Chess_Board:\n",
        "    position.append(Row.index(1))\n",
        "    print(Row)\n",
        "print(\"The Queen position is respectively: \",position)    "
      ],
      "metadata": {
        "colab": {
          "base_uri": "https://localhost:8080/"
        },
        "id": "BscZ-9wW7MHm",
        "outputId": "8ffdff04-5d13-4f0f-e480-938f98cdae9a"
      },
      "execution_count": 1,
      "outputs": [
        {
          "output_type": "stream",
          "name": "stdout",
          "text": [
            "Enter the size of Chess_Board: 4\n",
            "[0, 1, 0, 0]\n",
            "[0, 0, 0, 1]\n",
            "[1, 0, 0, 0]\n",
            "[0, 0, 1, 0]\n",
            "The Queen position is respectively:  [1, 3, 0, 2]\n"
          ]
        }
      ]
    }
  ]
}