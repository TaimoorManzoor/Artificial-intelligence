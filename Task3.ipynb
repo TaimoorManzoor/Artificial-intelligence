{
  "nbformat": 4,
  "nbformat_minor": 0,
  "metadata": {
    "colab": {
      "provenance": []
    },
    "kernelspec": {
      "name": "python3",
      "display_name": "Python 3"
    },
    "language_info": {
      "name": "python"
    }
  },
  "cells": [
    {
      "cell_type": "code",
      "execution_count": null,
      "metadata": {
        "colab": {
          "base_uri": "https://localhost:8080/"
        },
        "id": "jAI87iwhH3y7",
        "outputId": "9b251e69-de64-4a19-c1f2-8ad661b62f52"
      },
      "outputs": [
        {
          "output_type": "stream",
          "name": "stdout",
          "text": [
            "Give the rating of services:9\n",
            "Give the rating of Food Quality:9\n",
            "22.5\n"
          ]
        }
      ],
      "source": [
        "#this is dictionary for storing the comment of the customer for the service and food quality\n",
        "data={}\n",
        "#Take service input rating. \n",
        "service=float(input(\"Give the rating of services:\"))\n",
        "#Take food Quality input rating.\n",
        "foodQuality=float(input(\"Give the rating of Food Quality:\"))\n",
        "\n",
        "#check the service is poor,acceptable,amazing on the of service rating\n",
        "def FuzzySetService(service):\n",
        "  if service>=0 and service<=3:\n",
        "    return \"poor\"\n",
        "  elif service>=4 and service<=6:\n",
        "    return \"acceptable\"\n",
        "  elif service>=7 and service<=10:\n",
        "    return \"amazing\"\n",
        "  else:\n",
        "      print('Error')\n",
        "#check the Food Quality is bad,decent,great on the of food Quality rating\n",
        "def FuzzySetFood(foodQuality):\n",
        "  if foodQuality>=0 and foodQuality<=3:\n",
        "    return \"bad\"\n",
        "  elif foodQuality>=4 and foodQuality<=6:\n",
        "    return \"decent\"\n",
        "  elif foodQuality>=7 and foodQuality<=10:\n",
        "    return \"great\"\n",
        "  else:\n",
        "    print('Error')         \n",
        "\n",
        "#store the data\n",
        "data.update({'service':FuzzySetService(service)})\n",
        "data.update({'quality':FuzzySetFood(foodQuality)})\n",
        "\n",
        "#Rules of Fuzzy.\n",
        "def FuzzyRules():\n",
        "  if(data['service']=='amazing' and data['quality']=='great'): \n",
        "    temp=((service/10) +(foodQuality/10))/2\n",
        "    resulth=temp*25\n",
        "    print(resulth)\n",
        "  elif(data['service']=='acceptable'): \n",
        "    temp=((service/10) +(foodQuality/10))/2\n",
        "    resulth=temp*25\n",
        "    print(resulth)\n",
        "  elif(data['service']=='poor' and data['quality']=='bad'): \n",
        "    temp=((service/10) +(foodQuality/10))/2\n",
        "    resulth=temp*25\n",
        "    print(resulth)\n",
        "  else:\n",
        "    print('No tip')          \n",
        "\n",
        "FuzzyRules()"
      ]
    }
  ]
}